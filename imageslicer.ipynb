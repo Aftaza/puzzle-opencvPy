{
  "nbformat": 4,
  "nbformat_minor": 0,
  "metadata": {
    "colab": {
      "provenance": []
    },
    "kernelspec": {
      "name": "python3",
      "display_name": "Python 3"
    },
    "language_info": {
      "name": "python"
    }
  },
  "cells": [
    {
      "cell_type": "code",
      "execution_count": 1,
      "metadata": {
        "colab": {
          "base_uri": "https://localhost:8080/",
          "height": 463
        },
        "id": "QtWY07TnkRpS",
        "outputId": "4a2d02d2-3c72-43cf-d9c0-d65d0816395f"
      },
      "outputs": [
        {
          "output_type": "stream",
          "name": "stdout",
          "text": [
            "Collecting image_slicer\n",
            "  Downloading image_slicer-2.1.1-py2.py3-none-any.whl (8.3 kB)\n",
            "Collecting Pillow==7.2.0 (from image_slicer)\n",
            "  Downloading Pillow-7.2.0.tar.gz (39.1 MB)\n",
            "\u001b[2K     \u001b[90m━━━━━━━━━━━━━━━━━━━━━━━━━━━━━━━━━━━━━━━━\u001b[0m \u001b[32m39.1/39.1 MB\u001b[0m \u001b[31m9.6 MB/s\u001b[0m eta \u001b[36m0:00:00\u001b[0m\n",
            "\u001b[?25h  Preparing metadata (setup.py) ... \u001b[?25l\u001b[?25hdone\n",
            "Building wheels for collected packages: Pillow\n",
            "  Building wheel for Pillow (setup.py) ... \u001b[?25l\u001b[?25hdone\n",
            "  Created wheel for Pillow: filename=Pillow-7.2.0-cp310-cp310-linux_x86_64.whl size=1140159 sha256=1e36a756f57cfa14f19d20bcacd0cbc4c050c010fbef392cf91e5da71b23466c\n",
            "  Stored in directory: /root/.cache/pip/wheels/fd/5c/a6/0ab3157e7e4a0ba139bd89cb1edbe0f87876cf55ef31b05d6a\n",
            "Successfully built Pillow\n",
            "Installing collected packages: Pillow, image_slicer\n",
            "  Attempting uninstall: Pillow\n",
            "    Found existing installation: Pillow 9.4.0\n",
            "    Uninstalling Pillow-9.4.0:\n",
            "      Successfully uninstalled Pillow-9.4.0\n",
            "\u001b[31mERROR: pip's dependency resolver does not currently take into account all the packages that are installed. This behaviour is the source of the following dependency conflicts.\n",
            "imageio 2.31.3 requires pillow>=8.3.2, but you have pillow 7.2.0 which is incompatible.\u001b[0m\u001b[31m\n",
            "\u001b[0mSuccessfully installed Pillow-7.2.0 image_slicer-2.1.1\n"
          ]
        },
        {
          "output_type": "display_data",
          "data": {
            "application/vnd.colab-display-data+json": {
              "pip_warning": {
                "packages": [
                  "PIL"
                ]
              }
            }
          },
          "metadata": {}
        }
      ],
      "source": [
        "%pip install image_slicer"
      ]
    },
    {
      "cell_type": "code",
      "source": [
        "import image_slicer as imgSlice"
      ],
      "metadata": {
        "id": "jtN3CHAak6FM"
      },
      "execution_count": 3,
      "outputs": []
    },
    {
      "cell_type": "code",
      "source": [
        "tiles = imgSlice.slice('/content/puzzle1.jpg', 10, save=True)\n",
        "# imgSlice.save_tiles(tiles, directory='/content/pieces', prefix='piece_', format='jpg')"
      ],
      "metadata": {
        "id": "ML32qPCilqbT"
      },
      "execution_count": 6,
      "outputs": []
    },
    {
      "cell_type": "code",
      "source": [
        "prefix = 'puzzle1'\n",
        "delimit = '_0'\n",
        "width = 3\n",
        "height = 4\n",
        "num = 0"
      ],
      "metadata": {
        "id": "4UP_hXOLmqh9"
      },
      "execution_count": 14,
      "outputs": []
    },
    {
      "cell_type": "code",
      "source": [
        "for w in range(width):\n",
        "  for h in range(height):\n",
        "    name = prefix + delimit + str(w+1) + delimit + str(h+1) + '.png'\n",
        "    try:\n",
        "      !mv /content/pieces/$name /content/pieces/pieces_$num\n",
        "      print(f'success file {num}')\n",
        "      num += 1\n",
        "    except:\n",
        "      print(\"Fail\")"
      ],
      "metadata": {
        "colab": {
          "base_uri": "https://localhost:8080/"
        },
        "id": "UB7EbGrZm8Op",
        "outputId": "daf7800c-ec86-4c73-9ce0-a79792e896b7"
      },
      "execution_count": 15,
      "outputs": [
        {
          "output_type": "stream",
          "name": "stdout",
          "text": [
            "success file 0\n",
            "success file 1\n",
            "success file 2\n",
            "success file 3\n",
            "success file 4\n",
            "success file 5\n",
            "success file 6\n",
            "success file 7\n",
            "success file 8\n",
            "success file 9\n",
            "success file 10\n",
            "success file 11\n"
          ]
        }
      ]
    },
    {
      "cell_type": "code",
      "source": [
        "!zip -r /content/pieces.zip /content/pieces"
      ],
      "metadata": {
        "colab": {
          "base_uri": "https://localhost:8080/"
        },
        "id": "RZkEv5-WobaR",
        "outputId": "8c92e533-2f53-4818-e9ca-d1fddd30108d"
      },
      "execution_count": 16,
      "outputs": [
        {
          "output_type": "stream",
          "name": "stdout",
          "text": [
            "  adding: content/pieces/ (stored 0%)\n",
            "  adding: content/pieces/pieces_10 (deflated 0%)\n",
            "  adding: content/pieces/pieces_6 (deflated 0%)\n",
            "  adding: content/pieces/pieces_11 (deflated 0%)\n",
            "  adding: content/pieces/pieces_3 (deflated 0%)\n",
            "  adding: content/pieces/pieces_7 (deflated 0%)\n",
            "  adding: content/pieces/pieces_5 (deflated 0%)\n",
            "  adding: content/pieces/pieces_0 (deflated 0%)\n",
            "  adding: content/pieces/pieces_1 (deflated 0%)\n",
            "  adding: content/pieces/pieces_2 (deflated 0%)\n",
            "  adding: content/pieces/pieces_4 (deflated 0%)\n",
            "  adding: content/pieces/pieces_8 (deflated 0%)\n",
            "  adding: content/pieces/pieces_9 (deflated 0%)\n"
          ]
        }
      ]
    },
    {
      "cell_type": "code",
      "source": [
        "from google.colab import files\n",
        "files.download('/content/pieces.zip')"
      ],
      "metadata": {
        "colab": {
          "base_uri": "https://localhost:8080/",
          "height": 17
        },
        "id": "IT1hdu6aoqdD",
        "outputId": "6f35d609-57cc-41cb-fc5b-95e570c43455"
      },
      "execution_count": 17,
      "outputs": [
        {
          "output_type": "display_data",
          "data": {
            "text/plain": [
              "<IPython.core.display.Javascript object>"
            ],
            "application/javascript": [
              "\n",
              "    async function download(id, filename, size) {\n",
              "      if (!google.colab.kernel.accessAllowed) {\n",
              "        return;\n",
              "      }\n",
              "      const div = document.createElement('div');\n",
              "      const label = document.createElement('label');\n",
              "      label.textContent = `Downloading \"${filename}\": `;\n",
              "      div.appendChild(label);\n",
              "      const progress = document.createElement('progress');\n",
              "      progress.max = size;\n",
              "      div.appendChild(progress);\n",
              "      document.body.appendChild(div);\n",
              "\n",
              "      const buffers = [];\n",
              "      let downloaded = 0;\n",
              "\n",
              "      const channel = await google.colab.kernel.comms.open(id);\n",
              "      // Send a message to notify the kernel that we're ready.\n",
              "      channel.send({})\n",
              "\n",
              "      for await (const message of channel.messages) {\n",
              "        // Send a message to notify the kernel that we're ready.\n",
              "        channel.send({})\n",
              "        if (message.buffers) {\n",
              "          for (const buffer of message.buffers) {\n",
              "            buffers.push(buffer);\n",
              "            downloaded += buffer.byteLength;\n",
              "            progress.value = downloaded;\n",
              "          }\n",
              "        }\n",
              "      }\n",
              "      const blob = new Blob(buffers, {type: 'application/binary'});\n",
              "      const a = document.createElement('a');\n",
              "      a.href = window.URL.createObjectURL(blob);\n",
              "      a.download = filename;\n",
              "      div.appendChild(a);\n",
              "      a.click();\n",
              "      div.remove();\n",
              "    }\n",
              "  "
            ]
          },
          "metadata": {}
        },
        {
          "output_type": "display_data",
          "data": {
            "text/plain": [
              "<IPython.core.display.Javascript object>"
            ],
            "application/javascript": [
              "download(\"download_1ab6a36f-fa8a-4208-acc5-407c12a5f612\", \"pieces.zip\", 3417773)"
            ]
          },
          "metadata": {}
        }
      ]
    }
  ]
}